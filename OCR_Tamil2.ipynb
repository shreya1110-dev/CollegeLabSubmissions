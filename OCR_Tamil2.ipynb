{
  "nbformat": 4,
  "nbformat_minor": 0,
  "metadata": {
    "colab": {
      "provenance": [],
      "authorship_tag": "ABX9TyNhQNDLAB7mnf9SexpgwW/P",
      "include_colab_link": true
    },
    "kernelspec": {
      "name": "python3",
      "display_name": "Python 3"
    },
    "language_info": {
      "name": "python"
    }
  },
  "cells": [
    {
      "cell_type": "markdown",
      "metadata": {
        "id": "view-in-github",
        "colab_type": "text"
      },
      "source": [
        "<a href=\"https://colab.research.google.com/github/shreya1110-dev/CollegeLabSubmissions/blob/main/OCR_Tamil2.ipynb\" target=\"_parent\"><img src=\"https://colab.research.google.com/assets/colab-badge.svg\" alt=\"Open In Colab\"/></a>"
      ]
    },
    {
      "cell_type": "code",
      "source": [
        "from google.colab import drive\n",
        "drive.mount('/content/drive')"
      ],
      "metadata": {
        "colab": {
          "base_uri": "https://localhost:8080/"
        },
        "id": "rCitcuSIY5jx",
        "outputId": "7c52ee00-fae7-4ce5-f440-c22a00352e79"
      },
      "execution_count": 40,
      "outputs": [
        {
          "output_type": "stream",
          "name": "stdout",
          "text": [
            "Drive already mounted at /content/drive; to attempt to forcibly remount, call drive.mount(\"/content/drive\", force_remount=True).\n"
          ]
        }
      ]
    },
    {
      "cell_type": "code",
      "source": [
        "!pip install pytesseract\n",
        "!pip install pdf2image\n",
        "!apt-get install poppler-utils \n",
        "! apt install tesseract-ocr\n",
        "! apt install libtesseract-dev"
      ],
      "metadata": {
        "colab": {
          "base_uri": "https://localhost:8080/"
        },
        "id": "QrcnrL-qcCKG",
        "outputId": "2afbcb63-24b8-4451-b9c4-90183a6b9f57"
      },
      "execution_count": null,
      "outputs": [
        {
          "output_type": "stream",
          "name": "stdout",
          "text": [
            "Looking in indexes: https://pypi.org/simple, https://us-python.pkg.dev/colab-wheels/public/simple/\n",
            "Requirement already satisfied: pytesseract in /usr/local/lib/python3.8/dist-packages (0.3.10)\n",
            "Requirement already satisfied: Pillow>=8.0.0 in /usr/local/lib/python3.8/dist-packages (from pytesseract) (9.4.0)\n",
            "Requirement already satisfied: packaging>=21.3 in /usr/local/lib/python3.8/dist-packages (from pytesseract) (23.0)\n",
            "Looking in indexes: https://pypi.org/simple, https://us-python.pkg.dev/colab-wheels/public/simple/\n",
            "Requirement already satisfied: pdf2image in /usr/local/lib/python3.8/dist-packages (1.16.2)\n",
            "Requirement already satisfied: pillow in /usr/local/lib/python3.8/dist-packages (from pdf2image) (9.4.0)\n",
            "Reading package lists... Done\n",
            "Building dependency tree       \n",
            "Reading state information... Done\n",
            "poppler-utils is already the newest version (0.86.1-0ubuntu1.1).\n",
            "The following package was automatically installed and is no longer required:\n",
            "  libnvidia-common-510\n",
            "Use 'apt autoremove' to remove it.\n",
            "0 upgraded, 0 newly installed, 0 to remove and 27 not upgraded.\n",
            "Reading package lists... Done\n",
            "Building dependency tree       \n",
            "Reading state information... Done\n",
            "The following package was automatically installed and is no longer required:\n",
            "  libnvidia-common-510\n",
            "Use 'apt autoremove' to remove it.\n",
            "The following additional packages will be installed:\n",
            "  tesseract-ocr-eng tesseract-ocr-osd\n",
            "The following NEW packages will be installed:\n",
            "  tesseract-ocr tesseract-ocr-eng tesseract-ocr-osd\n",
            "0 upgraded, 3 newly installed, 0 to remove and 27 not upgraded.\n",
            "Need to get 4,850 kB of archives.\n",
            "After this operation, 16.3 MB of additional disk space will be used.\n",
            "Get:1 http://archive.ubuntu.com/ubuntu focal/universe amd64 tesseract-ocr-eng all 1:4.00~git30-7274cfa-1 [1,598 kB]\n",
            "Get:2 http://archive.ubuntu.com/ubuntu focal/universe amd64 tesseract-ocr-osd all 1:4.00~git30-7274cfa-1 [2,990 kB]\n",
            "Get:3 http://archive.ubuntu.com/ubuntu focal/universe amd64 tesseract-ocr amd64 4.1.1-2build2 [262 kB]\n",
            "Fetched 4,850 kB in 1s (3,514 kB/s)\n",
            "Selecting previously unselected package tesseract-ocr-eng.\n",
            "(Reading database ... 129526 files and directories currently installed.)\n",
            "Preparing to unpack .../tesseract-ocr-eng_1%3a4.00~git30-7274cfa-1_all.deb ...\n",
            "Unpacking tesseract-ocr-eng (1:4.00~git30-7274cfa-1) ...\n",
            "Selecting previously unselected package tesseract-ocr-osd.\n",
            "Preparing to unpack .../tesseract-ocr-osd_1%3a4.00~git30-7274cfa-1_all.deb ...\n",
            "Unpacking tesseract-ocr-osd (1:4.00~git30-7274cfa-1) ...\n",
            "Selecting previously unselected package tesseract-ocr.\n",
            "Preparing to unpack .../tesseract-ocr_4.1.1-2build2_amd64.deb ...\n",
            "Unpacking tesseract-ocr (4.1.1-2build2) ...\n",
            "Setting up tesseract-ocr-eng (1:4.00~git30-7274cfa-1) ...\n",
            "Setting up tesseract-ocr-osd (1:4.00~git30-7274cfa-1) ...\n",
            "Setting up tesseract-ocr (4.1.1-2build2) ...\n",
            "Processing triggers for man-db (2.9.1-1) ...\n",
            "Reading package lists... Done\n",
            "Building dependency tree       \n",
            "Reading state information... Done\n",
            "The following package was automatically installed and is no longer required:\n",
            "  libnvidia-common-510\n",
            "Use 'apt autoremove' to remove it.\n",
            "The following additional packages will be installed:\n",
            "  libarchive-dev libleptonica-dev\n",
            "The following NEW packages will be installed:\n",
            "  libarchive-dev libleptonica-dev libtesseract-dev\n",
            "0 upgraded, 3 newly installed, 0 to remove and 27 not upgraded.\n",
            "Need to get 3,343 kB of archives.\n",
            "After this operation, 15.7 MB of additional disk space will be used.\n",
            "Get:1 http://archive.ubuntu.com/ubuntu focal-updates/main amd64 libarchive-dev amd64 3.4.0-2ubuntu1.2 [491 kB]\n",
            "Get:2 http://archive.ubuntu.com/ubuntu focal/universe amd64 libleptonica-dev amd64 1.79.0-1 [1,389 kB]\n",
            "Get:3 http://archive.ubuntu.com/ubuntu focal/universe amd64 libtesseract-dev amd64 4.1.1-2build2 [1,463 kB]\n",
            "Fetched 3,343 kB in 1s (3,115 kB/s)\n",
            "Selecting previously unselected package libarchive-dev:amd64.\n",
            "(Reading database ... 129573 files and directories currently installed.)\n",
            "Preparing to unpack .../libarchive-dev_3.4.0-2ubuntu1.2_amd64.deb ...\n",
            "Unpacking libarchive-dev:amd64 (3.4.0-2ubuntu1.2) ...\n",
            "Selecting previously unselected package libleptonica-dev:amd64.\n",
            "Preparing to unpack .../libleptonica-dev_1.79.0-1_amd64.deb ...\n",
            "Unpacking libleptonica-dev:amd64 (1.79.0-1) ...\n",
            "Selecting previously unselected package libtesseract-dev:amd64.\n",
            "Preparing to unpack .../libtesseract-dev_4.1.1-2build2_amd64.deb ...\n",
            "Unpacking libtesseract-dev:amd64 (4.1.1-2build2) ...\n",
            "Setting up libleptonica-dev:amd64 (1.79.0-1) ...\n",
            "Setting up libarchive-dev:amd64 (3.4.0-2ubuntu1.2) ...\n",
            "Setting up libtesseract-dev:amd64 (4.1.1-2build2) ...\n",
            "Processing triggers for man-db (2.9.1-1) ...\n"
          ]
        }
      ]
    },
    {
      "cell_type": "code",
      "source": [
        "import os\n",
        "import io\n",
        "import re\n",
        "import pytesseract \n",
        "import PyPDF2 \n",
        "import cv2\n",
        "from pdf2image import convert_from_path\n",
        "from PIL import Image"
      ],
      "metadata": {
        "id": "5P5NBa52b4e4"
      },
      "execution_count": 41,
      "outputs": []
    },
    {
      "cell_type": "code",
      "source": [
        "!wget https://github.com/tesseract-ocr/tessdata/raw/main/eng.traineddata"
      ],
      "metadata": {
        "colab": {
          "base_uri": "https://localhost:8080/"
        },
        "id": "kiYmdVlv3M5a",
        "outputId": "8f5904a9-6dfb-4a8b-f51e-a9028ad02ae3"
      },
      "execution_count": null,
      "outputs": [
        {
          "output_type": "stream",
          "name": "stdout",
          "text": [
            "--2023-02-03 15:19:57--  https://github.com/tesseract-ocr/tessdata/raw/main/eng.traineddata\n",
            "Resolving github.com (github.com)... 140.82.114.4\n",
            "Connecting to github.com (github.com)|140.82.114.4|:443... connected.\n",
            "HTTP request sent, awaiting response... 302 Found\n",
            "Location: https://raw.githubusercontent.com/tesseract-ocr/tessdata/main/eng.traineddata [following]\n",
            "--2023-02-03 15:19:58--  https://raw.githubusercontent.com/tesseract-ocr/tessdata/main/eng.traineddata\n",
            "Resolving raw.githubusercontent.com (raw.githubusercontent.com)... 185.199.109.133, 185.199.111.133, 185.199.110.133, ...\n",
            "Connecting to raw.githubusercontent.com (raw.githubusercontent.com)|185.199.109.133|:443... connected.\n",
            "HTTP request sent, awaiting response... 200 OK\n",
            "Length: 23466654 (22M) [application/octet-stream]\n",
            "Saving to: ‘eng.traineddata’\n",
            "\n",
            "eng.traineddata     100%[===================>]  22.38M  --.-KB/s    in 0.1s    \n",
            "\n",
            "2023-02-03 15:19:58 (158 MB/s) - ‘eng.traineddata’ saved [23466654/23466654]\n",
            "\n"
          ]
        }
      ]
    },
    {
      "cell_type": "code",
      "source": [
        "# specifying the folders\n",
        "RESOURCES_FOLDER = '/content/drive/MyDrive/Final Year Project/RESOURCES/Books/'\n",
        "dir_list = os.listdir(RESOURCES_FOLDER)\n",
        "dir_list"
      ],
      "metadata": {
        "colab": {
          "base_uri": "https://localhost:8080/"
        },
        "id": "blaMg-FxaTVN",
        "outputId": "463983c3-54ee-4a37-f222-bcebb368ff2d"
      },
      "execution_count": 42,
      "outputs": [
        {
          "output_type": "execute_result",
          "data": {
            "text/plain": [
              "['Forgotten medicine மறந்து போன மருத்துவம்.pdf',\n",
              " 'pathinen-sitharkal-varalaru பதினெண் சித்தர்கள் வரலாறு.pdf',\n",
              " 'Mooigai unavum vagaiyum மூலிகையும் உணவு வகையும்.pdf',\n",
              " 'Sirumanavur munisami mooigai marmam சிறுமணவூர் முனிசாமி மூலிகை மர்மம்.pdf']"
            ]
          },
          "metadata": {},
          "execution_count": 42
        }
      ]
    },
    {
      "cell_type": "code",
      "source": [
        "pytesseract.pytesseract.tesseract_cmd = (\n",
        "    r'/usr/bin/tesseract'\n",
        ")"
      ],
      "metadata": {
        "id": "h-IrhKqs0yyI"
      },
      "execution_count": null,
      "outputs": []
    },
    {
      "cell_type": "code",
      "source": [
        "from pdf2image import convert_from_path\n",
        "\n",
        "pages = convert_from_path('/content/drive/MyDrive/Final Year Project/RESOURCES/Books/Forgotten medicine மறந்து போன மருத்துவம்.pdf')\n",
        "\n",
        "for i in range(len(pages)):\n",
        "\n",
        "  pages[i].save('page.jpg', 'JPEG')\n",
        "\n",
        "  text = pytesseract.image_to_string(pages[i], lang='ta')\n",
        "  print(text)"
      ],
      "metadata": {
        "colab": {
          "base_uri": "https://localhost:8080/",
          "height": 422
        },
        "id": "m1Ejs9uytocm",
        "outputId": "c46a09f4-9fb0-4dae-c144-a92f74edb2eb"
      },
      "execution_count": 43,
      "outputs": [
        {
          "output_type": "error",
          "ename": "TesseractError",
          "evalue": "ignored",
          "traceback": [
            "\u001b[0;31m---------------------------------------------------------------------------\u001b[0m",
            "\u001b[0;31mTesseractError\u001b[0m                            Traceback (most recent call last)",
            "\u001b[0;32m<ipython-input-43-9533823acf43>\u001b[0m in \u001b[0;36m<module>\u001b[0;34m\u001b[0m\n\u001b[1;32m      7\u001b[0m   \u001b[0mpages\u001b[0m\u001b[0;34m[\u001b[0m\u001b[0mi\u001b[0m\u001b[0;34m]\u001b[0m\u001b[0;34m.\u001b[0m\u001b[0msave\u001b[0m\u001b[0;34m(\u001b[0m\u001b[0;34m'page.jpg'\u001b[0m\u001b[0;34m,\u001b[0m \u001b[0;34m'JPEG'\u001b[0m\u001b[0;34m)\u001b[0m\u001b[0;34m\u001b[0m\u001b[0;34m\u001b[0m\u001b[0m\n\u001b[1;32m      8\u001b[0m \u001b[0;34m\u001b[0m\u001b[0m\n\u001b[0;32m----> 9\u001b[0;31m   \u001b[0mtext\u001b[0m \u001b[0;34m=\u001b[0m \u001b[0mpytesseract\u001b[0m\u001b[0;34m.\u001b[0m\u001b[0mimage_to_string\u001b[0m\u001b[0;34m(\u001b[0m\u001b[0mpages\u001b[0m\u001b[0;34m[\u001b[0m\u001b[0mi\u001b[0m\u001b[0;34m]\u001b[0m\u001b[0;34m,\u001b[0m \u001b[0mlang\u001b[0m\u001b[0;34m=\u001b[0m\u001b[0;34m'ta'\u001b[0m\u001b[0;34m)\u001b[0m\u001b[0;34m\u001b[0m\u001b[0;34m\u001b[0m\u001b[0m\n\u001b[0m\u001b[1;32m     10\u001b[0m   \u001b[0mprint\u001b[0m\u001b[0;34m(\u001b[0m\u001b[0mtext\u001b[0m\u001b[0;34m)\u001b[0m\u001b[0;34m\u001b[0m\u001b[0;34m\u001b[0m\u001b[0m\n",
            "\u001b[0;32m/usr/local/lib/python3.8/dist-packages/pytesseract/pytesseract.py\u001b[0m in \u001b[0;36mimage_to_string\u001b[0;34m(image, lang, config, nice, output_type, timeout)\u001b[0m\n\u001b[1;32m    421\u001b[0m     \u001b[0margs\u001b[0m \u001b[0;34m=\u001b[0m \u001b[0;34m[\u001b[0m\u001b[0mimage\u001b[0m\u001b[0;34m,\u001b[0m \u001b[0;34m'txt'\u001b[0m\u001b[0;34m,\u001b[0m \u001b[0mlang\u001b[0m\u001b[0;34m,\u001b[0m \u001b[0mconfig\u001b[0m\u001b[0;34m,\u001b[0m \u001b[0mnice\u001b[0m\u001b[0;34m,\u001b[0m \u001b[0mtimeout\u001b[0m\u001b[0;34m]\u001b[0m\u001b[0;34m\u001b[0m\u001b[0;34m\u001b[0m\u001b[0m\n\u001b[1;32m    422\u001b[0m \u001b[0;34m\u001b[0m\u001b[0m\n\u001b[0;32m--> 423\u001b[0;31m     return {\n\u001b[0m\u001b[1;32m    424\u001b[0m         \u001b[0mOutput\u001b[0m\u001b[0;34m.\u001b[0m\u001b[0mBYTES\u001b[0m\u001b[0;34m:\u001b[0m \u001b[0;32mlambda\u001b[0m\u001b[0;34m:\u001b[0m \u001b[0mrun_and_get_output\u001b[0m\u001b[0;34m(\u001b[0m\u001b[0;34m*\u001b[0m\u001b[0;34m(\u001b[0m\u001b[0margs\u001b[0m \u001b[0;34m+\u001b[0m \u001b[0;34m[\u001b[0m\u001b[0;32mTrue\u001b[0m\u001b[0;34m]\u001b[0m\u001b[0;34m)\u001b[0m\u001b[0;34m)\u001b[0m\u001b[0;34m,\u001b[0m\u001b[0;34m\u001b[0m\u001b[0;34m\u001b[0m\u001b[0m\n\u001b[1;32m    425\u001b[0m         \u001b[0mOutput\u001b[0m\u001b[0;34m.\u001b[0m\u001b[0mDICT\u001b[0m\u001b[0;34m:\u001b[0m \u001b[0;32mlambda\u001b[0m\u001b[0;34m:\u001b[0m \u001b[0;34m{\u001b[0m\u001b[0;34m'text'\u001b[0m\u001b[0;34m:\u001b[0m \u001b[0mrun_and_get_output\u001b[0m\u001b[0;34m(\u001b[0m\u001b[0;34m*\u001b[0m\u001b[0margs\u001b[0m\u001b[0;34m)\u001b[0m\u001b[0;34m}\u001b[0m\u001b[0;34m,\u001b[0m\u001b[0;34m\u001b[0m\u001b[0;34m\u001b[0m\u001b[0m\n",
            "\u001b[0;32m/usr/local/lib/python3.8/dist-packages/pytesseract/pytesseract.py\u001b[0m in \u001b[0;36m<lambda>\u001b[0;34m()\u001b[0m\n\u001b[1;32m    424\u001b[0m         \u001b[0mOutput\u001b[0m\u001b[0;34m.\u001b[0m\u001b[0mBYTES\u001b[0m\u001b[0;34m:\u001b[0m \u001b[0;32mlambda\u001b[0m\u001b[0;34m:\u001b[0m \u001b[0mrun_and_get_output\u001b[0m\u001b[0;34m(\u001b[0m\u001b[0;34m*\u001b[0m\u001b[0;34m(\u001b[0m\u001b[0margs\u001b[0m \u001b[0;34m+\u001b[0m \u001b[0;34m[\u001b[0m\u001b[0;32mTrue\u001b[0m\u001b[0;34m]\u001b[0m\u001b[0;34m)\u001b[0m\u001b[0;34m)\u001b[0m\u001b[0;34m,\u001b[0m\u001b[0;34m\u001b[0m\u001b[0;34m\u001b[0m\u001b[0m\n\u001b[1;32m    425\u001b[0m         \u001b[0mOutput\u001b[0m\u001b[0;34m.\u001b[0m\u001b[0mDICT\u001b[0m\u001b[0;34m:\u001b[0m \u001b[0;32mlambda\u001b[0m\u001b[0;34m:\u001b[0m \u001b[0;34m{\u001b[0m\u001b[0;34m'text'\u001b[0m\u001b[0;34m:\u001b[0m \u001b[0mrun_and_get_output\u001b[0m\u001b[0;34m(\u001b[0m\u001b[0;34m*\u001b[0m\u001b[0margs\u001b[0m\u001b[0;34m)\u001b[0m\u001b[0;34m}\u001b[0m\u001b[0;34m,\u001b[0m\u001b[0;34m\u001b[0m\u001b[0;34m\u001b[0m\u001b[0m\n\u001b[0;32m--> 426\u001b[0;31m         \u001b[0mOutput\u001b[0m\u001b[0;34m.\u001b[0m\u001b[0mSTRING\u001b[0m\u001b[0;34m:\u001b[0m \u001b[0;32mlambda\u001b[0m\u001b[0;34m:\u001b[0m \u001b[0mrun_and_get_output\u001b[0m\u001b[0;34m(\u001b[0m\u001b[0;34m*\u001b[0m\u001b[0margs\u001b[0m\u001b[0;34m)\u001b[0m\u001b[0;34m,\u001b[0m\u001b[0;34m\u001b[0m\u001b[0;34m\u001b[0m\u001b[0m\n\u001b[0m\u001b[1;32m    427\u001b[0m     }[output_type]()\n\u001b[1;32m    428\u001b[0m \u001b[0;34m\u001b[0m\u001b[0m\n",
            "\u001b[0;32m/usr/local/lib/python3.8/dist-packages/pytesseract/pytesseract.py\u001b[0m in \u001b[0;36mrun_and_get_output\u001b[0;34m(image, extension, lang, config, nice, timeout, return_bytes)\u001b[0m\n\u001b[1;32m    286\u001b[0m         }\n\u001b[1;32m    287\u001b[0m \u001b[0;34m\u001b[0m\u001b[0m\n\u001b[0;32m--> 288\u001b[0;31m         \u001b[0mrun_tesseract\u001b[0m\u001b[0;34m(\u001b[0m\u001b[0;34m**\u001b[0m\u001b[0mkwargs\u001b[0m\u001b[0;34m)\u001b[0m\u001b[0;34m\u001b[0m\u001b[0;34m\u001b[0m\u001b[0m\n\u001b[0m\u001b[1;32m    289\u001b[0m         \u001b[0mfilename\u001b[0m \u001b[0;34m=\u001b[0m \u001b[0;34mf\"{kwargs['output_filename_base']}{extsep}{extension}\"\u001b[0m\u001b[0;34m\u001b[0m\u001b[0;34m\u001b[0m\u001b[0m\n\u001b[1;32m    290\u001b[0m         \u001b[0;32mwith\u001b[0m \u001b[0mopen\u001b[0m\u001b[0;34m(\u001b[0m\u001b[0mfilename\u001b[0m\u001b[0;34m,\u001b[0m \u001b[0;34m'rb'\u001b[0m\u001b[0;34m)\u001b[0m \u001b[0;32mas\u001b[0m \u001b[0moutput_file\u001b[0m\u001b[0;34m:\u001b[0m\u001b[0;34m\u001b[0m\u001b[0;34m\u001b[0m\u001b[0m\n",
            "\u001b[0;32m/usr/local/lib/python3.8/dist-packages/pytesseract/pytesseract.py\u001b[0m in \u001b[0;36mrun_tesseract\u001b[0;34m(input_filename, output_filename_base, extension, lang, config, nice, timeout)\u001b[0m\n\u001b[1;32m    262\u001b[0m     \u001b[0;32mwith\u001b[0m \u001b[0mtimeout_manager\u001b[0m\u001b[0;34m(\u001b[0m\u001b[0mproc\u001b[0m\u001b[0;34m,\u001b[0m \u001b[0mtimeout\u001b[0m\u001b[0;34m)\u001b[0m \u001b[0;32mas\u001b[0m \u001b[0merror_string\u001b[0m\u001b[0;34m:\u001b[0m\u001b[0;34m\u001b[0m\u001b[0;34m\u001b[0m\u001b[0m\n\u001b[1;32m    263\u001b[0m         \u001b[0;32mif\u001b[0m \u001b[0mproc\u001b[0m\u001b[0;34m.\u001b[0m\u001b[0mreturncode\u001b[0m\u001b[0;34m:\u001b[0m\u001b[0;34m\u001b[0m\u001b[0;34m\u001b[0m\u001b[0m\n\u001b[0;32m--> 264\u001b[0;31m             \u001b[0;32mraise\u001b[0m \u001b[0mTesseractError\u001b[0m\u001b[0;34m(\u001b[0m\u001b[0mproc\u001b[0m\u001b[0;34m.\u001b[0m\u001b[0mreturncode\u001b[0m\u001b[0;34m,\u001b[0m \u001b[0mget_errors\u001b[0m\u001b[0;34m(\u001b[0m\u001b[0merror_string\u001b[0m\u001b[0;34m)\u001b[0m\u001b[0;34m)\u001b[0m\u001b[0;34m\u001b[0m\u001b[0;34m\u001b[0m\u001b[0m\n\u001b[0m\u001b[1;32m    265\u001b[0m \u001b[0;34m\u001b[0m\u001b[0m\n\u001b[1;32m    266\u001b[0m \u001b[0;34m\u001b[0m\u001b[0m\n",
            "\u001b[0;31mTesseractError\u001b[0m: (1, 'Error opening data file /usr/share/tesseract-ocr/4.00/tessdata/ta.traineddata Please make sure the TESSDATA_PREFIX environment variable is set to your \"tessdata\" directory. Failed loading language \\'ta\\' Tesseract couldn\\'t load any languages! Could not initialize tesseract.')"
          ]
        }
      ]
    },
    {
      "cell_type": "code",
      "execution_count": null,
      "metadata": {
        "colab": {
          "base_uri": "https://localhost:8080/",
          "height": 380
        },
        "id": "T1-4LaRLX4y6",
        "outputId": "e52f6fc5-019c-44e4-a344-8b2516d57242"
      },
      "outputs": [
        {
          "output_type": "error",
          "ename": "UnidentifiedImageError",
          "evalue": "ignored",
          "traceback": [
            "\u001b[0;31m---------------------------------------------------------------------------\u001b[0m",
            "\u001b[0;31mUnidentifiedImageError\u001b[0m                    Traceback (most recent call last)",
            "\u001b[0;32m<ipython-input-10-eb7c788b0be5>\u001b[0m in \u001b[0;36m<module>\u001b[0;34m\u001b[0m\n\u001b[1;32m      6\u001b[0m \u001b[0;34m\u001b[0m\u001b[0m\n\u001b[1;32m      7\u001b[0m   \u001b[0;31m#create a Pillow Image object from the PDF\u001b[0m\u001b[0;34m\u001b[0m\u001b[0;34m\u001b[0m\u001b[0;34m\u001b[0m\u001b[0m\n\u001b[0;32m----> 8\u001b[0;31m   \u001b[0mimage\u001b[0m \u001b[0;34m=\u001b[0m \u001b[0mImage\u001b[0m\u001b[0;34m.\u001b[0m\u001b[0mopen\u001b[0m\u001b[0;34m(\u001b[0m\u001b[0mfile\u001b[0m\u001b[0;34m)\u001b[0m\u001b[0;34m\u001b[0m\u001b[0;34m\u001b[0m\u001b[0m\n\u001b[0m\u001b[1;32m      9\u001b[0m \u001b[0;34m\u001b[0m\u001b[0m\n\u001b[1;32m     10\u001b[0m   \u001b[0;31m#convert the PDF to images\u001b[0m\u001b[0;34m\u001b[0m\u001b[0;34m\u001b[0m\u001b[0;34m\u001b[0m\u001b[0m\n",
            "\u001b[0;32m/usr/local/lib/python3.8/dist-packages/PIL/Image.py\u001b[0m in \u001b[0;36mopen\u001b[0;34m(fp, mode, formats)\u001b[0m\n\u001b[1;32m   3281\u001b[0m         \u001b[0mwarnings\u001b[0m\u001b[0;34m.\u001b[0m\u001b[0mwarn\u001b[0m\u001b[0;34m(\u001b[0m\u001b[0mmessage\u001b[0m\u001b[0;34m)\u001b[0m\u001b[0;34m\u001b[0m\u001b[0;34m\u001b[0m\u001b[0m\n\u001b[1;32m   3282\u001b[0m     \u001b[0mmsg\u001b[0m \u001b[0;34m=\u001b[0m \u001b[0;34m\"cannot identify image file %r\"\u001b[0m \u001b[0;34m%\u001b[0m \u001b[0;34m(\u001b[0m\u001b[0mfilename\u001b[0m \u001b[0;32mif\u001b[0m \u001b[0mfilename\u001b[0m \u001b[0;32melse\u001b[0m \u001b[0mfp\u001b[0m\u001b[0;34m)\u001b[0m\u001b[0;34m\u001b[0m\u001b[0;34m\u001b[0m\u001b[0m\n\u001b[0;32m-> 3283\u001b[0;31m     \u001b[0;32mraise\u001b[0m \u001b[0mUnidentifiedImageError\u001b[0m\u001b[0;34m(\u001b[0m\u001b[0mmsg\u001b[0m\u001b[0;34m)\u001b[0m\u001b[0;34m\u001b[0m\u001b[0;34m\u001b[0m\u001b[0m\n\u001b[0m\u001b[1;32m   3284\u001b[0m \u001b[0;34m\u001b[0m\u001b[0m\n\u001b[1;32m   3285\u001b[0m \u001b[0;34m\u001b[0m\u001b[0m\n",
            "\u001b[0;31mUnidentifiedImageError\u001b[0m: cannot identify image file <_io.BufferedReader name='/content/drive/MyDrive/Final Year Project/RESOURCES/Books/Forgotten medicine மறந்து போன மருத்துவம்.pdf'>"
          ]
        }
      ],
      "source": [
        "for files in dir_list:\n",
        "\n",
        "  #open the PDF file\n",
        "  file_name = RESOURCES_FOLDER+files\n",
        "  file = open(file_name, 'rb')\n",
        "\n",
        "  #create a Pillow Image object from the PDF\n",
        "  image = Image.open(file)\n",
        "\n",
        "  #convert the PDF to images\n",
        "  images = [image.convert('RGB') for page in image.sequence]\n",
        "\n",
        "  #close the PDF file\n",
        "  file.close()\n",
        "\n",
        "  #save the images\n",
        "  for i, page in enumerate(images):\n",
        "      page.save(f'page.jpg', 'JPEG')\n",
        "\n",
        "      text = pytesseract.image_to_string(file)\n",
        "\n",
        "      #convert the output from OCR into Tamil text\n",
        "      tamil_text = cv2.convert_to_tamil(text)"
      ]
    },
    {
      "cell_type": "code",
      "source": [],
      "metadata": {
        "id": "LeKFMXBq5r0K"
      },
      "execution_count": null,
      "outputs": []
    },
    {
      "cell_type": "code",
      "source": [],
      "metadata": {
        "id": "evZ70DzC5r2y"
      },
      "execution_count": null,
      "outputs": []
    },
    {
      "cell_type": "code",
      "source": [
        "\n",
        "!pip install easyocr"
      ],
      "metadata": {
        "colab": {
          "base_uri": "https://localhost:8080/",
          "height": 1000
        },
        "id": "0XpIWdhu5r5S",
        "outputId": "33b39107-2d25-43a3-fa99-7381f92a099c"
      },
      "execution_count": 45,
      "outputs": [
        {
          "output_type": "stream",
          "name": "stdout",
          "text": [
            "Reading package lists... Done\n",
            "Building dependency tree       \n",
            "Reading state information... Done\n",
            "tesseract-ocr is already the newest version (4.1.1-2build2).\n",
            "The following package was automatically installed and is no longer required:\n",
            "  libnvidia-common-510\n",
            "Use 'sudo apt autoremove' to remove it.\n",
            "0 upgraded, 0 newly installed, 0 to remove and 27 not upgraded.\n",
            "Looking in indexes: https://pypi.org/simple, https://us-python.pkg.dev/colab-wheels/public/simple/\n",
            "Collecting easyocr\n",
            "  Downloading easyocr-1.6.2-py3-none-any.whl (2.9 MB)\n",
            "\u001b[2K     \u001b[90m━━━━━━━━━━━━━━━━━━━━━━━━━━━━━━━━━━━━━━━━\u001b[0m \u001b[32m2.9/2.9 MB\u001b[0m \u001b[31m32.5 MB/s\u001b[0m eta \u001b[36m0:00:00\u001b[0m\n",
            "\u001b[?25hRequirement already satisfied: torchvision>=0.5 in /usr/local/lib/python3.8/dist-packages (from easyocr) (0.14.1+cu116)\n",
            "Collecting python-bidi\n",
            "  Downloading python_bidi-0.4.2-py2.py3-none-any.whl (30 kB)\n",
            "Requirement already satisfied: torch in /usr/local/lib/python3.8/dist-packages (from easyocr) (1.13.1+cu116)\n",
            "Requirement already satisfied: PyYAML in /usr/local/lib/python3.8/dist-packages (from easyocr) (6.0)\n",
            "Requirement already satisfied: numpy in /usr/local/lib/python3.8/dist-packages (from easyocr) (1.21.6)\n",
            "Requirement already satisfied: scipy in /usr/local/lib/python3.8/dist-packages (from easyocr) (1.7.3)\n",
            "Collecting pyclipper\n",
            "  Downloading pyclipper-1.3.0.post4-cp38-cp38-manylinux_2_5_x86_64.manylinux1_x86_64.whl (619 kB)\n",
            "\u001b[2K     \u001b[90m━━━━━━━━━━━━━━━━━━━━━━━━━━━━━━━━━━━━━━\u001b[0m \u001b[32m619.2/619.2 KB\u001b[0m \u001b[31m49.3 MB/s\u001b[0m eta \u001b[36m0:00:00\u001b[0m\n",
            "\u001b[?25hCollecting opencv-python-headless<=4.5.4.60\n",
            "  Downloading opencv_python_headless-4.5.4.60-cp38-cp38-manylinux_2_17_x86_64.manylinux2014_x86_64.whl (47.6 MB)\n",
            "\u001b[2K     \u001b[90m━━━━━━━━━━━━━━━━━━━━━━━━━━━━━━━━━━━━━━━━\u001b[0m \u001b[32m47.6/47.6 MB\u001b[0m \u001b[31m16.9 MB/s\u001b[0m eta \u001b[36m0:00:00\u001b[0m\n",
            "\u001b[?25hRequirement already satisfied: Pillow in /usr/local/lib/python3.8/dist-packages (from easyocr) (9.4.0)\n",
            "Requirement already satisfied: scikit-image in /usr/local/lib/python3.8/dist-packages (from easyocr) (0.18.3)\n",
            "Collecting ninja\n",
            "  Downloading ninja-1.11.1-py2.py3-none-manylinux_2_12_x86_64.manylinux2010_x86_64.whl (145 kB)\n",
            "\u001b[2K     \u001b[90m━━━━━━━━━━━━━━━━━━━━━━━━━━━━━━━━━━━━━━\u001b[0m \u001b[32m146.0/146.0 KB\u001b[0m \u001b[31m14.4 MB/s\u001b[0m eta \u001b[36m0:00:00\u001b[0m\n",
            "\u001b[?25hRequirement already satisfied: Shapely in /usr/local/lib/python3.8/dist-packages (from easyocr) (2.0.1)\n",
            "Requirement already satisfied: requests in /usr/local/lib/python3.8/dist-packages (from torchvision>=0.5->easyocr) (2.25.1)\n",
            "Requirement already satisfied: typing-extensions in /usr/local/lib/python3.8/dist-packages (from torchvision>=0.5->easyocr) (4.4.0)\n",
            "Requirement already satisfied: six in /usr/local/lib/python3.8/dist-packages (from python-bidi->easyocr) (1.15.0)\n",
            "Requirement already satisfied: matplotlib!=3.0.0,>=2.0.0 in /usr/local/lib/python3.8/dist-packages (from scikit-image->easyocr) (3.2.2)\n",
            "Requirement already satisfied: imageio>=2.3.0 in /usr/local/lib/python3.8/dist-packages (from scikit-image->easyocr) (2.9.0)\n",
            "Requirement already satisfied: networkx>=2.0 in /usr/local/lib/python3.8/dist-packages (from scikit-image->easyocr) (3.0)\n",
            "Requirement already satisfied: tifffile>=2019.7.26 in /usr/local/lib/python3.8/dist-packages (from scikit-image->easyocr) (2023.1.23.1)\n",
            "Requirement already satisfied: PyWavelets>=1.1.1 in /usr/local/lib/python3.8/dist-packages (from scikit-image->easyocr) (1.4.1)\n",
            "Requirement already satisfied: python-dateutil>=2.1 in /usr/local/lib/python3.8/dist-packages (from matplotlib!=3.0.0,>=2.0.0->scikit-image->easyocr) (2.8.2)\n",
            "Requirement already satisfied: pyparsing!=2.0.4,!=2.1.2,!=2.1.6,>=2.0.1 in /usr/local/lib/python3.8/dist-packages (from matplotlib!=3.0.0,>=2.0.0->scikit-image->easyocr) (3.0.9)\n",
            "Requirement already satisfied: cycler>=0.10 in /usr/local/lib/python3.8/dist-packages (from matplotlib!=3.0.0,>=2.0.0->scikit-image->easyocr) (0.11.0)\n",
            "Requirement already satisfied: kiwisolver>=1.0.1 in /usr/local/lib/python3.8/dist-packages (from matplotlib!=3.0.0,>=2.0.0->scikit-image->easyocr) (1.4.4)\n",
            "Requirement already satisfied: urllib3<1.27,>=1.21.1 in /usr/local/lib/python3.8/dist-packages (from requests->torchvision>=0.5->easyocr) (1.24.3)\n",
            "Requirement already satisfied: chardet<5,>=3.0.2 in /usr/local/lib/python3.8/dist-packages (from requests->torchvision>=0.5->easyocr) (4.0.0)\n",
            "Requirement already satisfied: idna<3,>=2.5 in /usr/local/lib/python3.8/dist-packages (from requests->torchvision>=0.5->easyocr) (2.10)\n",
            "Requirement already satisfied: certifi>=2017.4.17 in /usr/local/lib/python3.8/dist-packages (from requests->torchvision>=0.5->easyocr) (2022.12.7)\n",
            "Installing collected packages: pyclipper, ninja, python-bidi, opencv-python-headless, easyocr\n",
            "  Attempting uninstall: opencv-python-headless\n",
            "    Found existing installation: opencv-python-headless 4.7.0.68\n",
            "    Uninstalling opencv-python-headless-4.7.0.68:\n",
            "      Successfully uninstalled opencv-python-headless-4.7.0.68\n",
            "Successfully installed easyocr-1.6.2 ninja-1.11.1 opencv-python-headless-4.5.4.60 pyclipper-1.3.0.post4 python-bidi-0.4.2\n"
          ]
        },
        {
          "output_type": "display_data",
          "data": {
            "application/vnd.colab-display-data+json": {
              "pip_warning": {
                "packages": [
                  "cv2"
                ]
              }
            }
          },
          "metadata": {}
        }
      ]
    },
    {
      "cell_type": "code",
      "source": [
        "import easyocr\n",
        "reader = easyocr.Reader(['ta'])"
      ],
      "metadata": {
        "colab": {
          "base_uri": "https://localhost:8080/"
        },
        "id": "oR6ZOnSh5r78",
        "outputId": "7149b161-8225-451e-f31e-9bb805ea9dc1"
      },
      "execution_count": 46,
      "outputs": [
        {
          "output_type": "stream",
          "name": "stderr",
          "text": [
            "WARNING:easyocr.easyocr:CUDA not available - defaulting to CPU. Note: This module is much faster with a GPU.\n",
            "WARNING:easyocr.easyocr:Downloading detection model, please wait. This may take several minutes depending upon your network connection.\n"
          ]
        },
        {
          "output_type": "stream",
          "name": "stdout",
          "text": [
            "Progress: |██████████████████████████████████████████████████| 100.0% Complete"
          ]
        },
        {
          "output_type": "stream",
          "name": "stderr",
          "text": [
            "WARNING:easyocr.easyocr:Downloading recognition model, please wait. This may take several minutes depending upon your network connection.\n"
          ]
        },
        {
          "output_type": "stream",
          "name": "stdout",
          "text": [
            "Progress: |██████████████████████████████████████████████████| 100.0% Complete"
          ]
        }
      ]
    },
    {
      "cell_type": "code",
      "source": [
        "pages = convert_from_path('/content/drive/MyDrive/Final Year Project/RESOURCES/Books/Sirumanavur munisami mooigai marmam சிறுமணவூர் முனிசாமி மூலிகை மர்மம்.pdf')"
      ],
      "metadata": {
        "colab": {
          "base_uri": "https://localhost:8080/"
        },
        "id": "Ldv8yCkR5r-R",
        "outputId": "78bbf04c-5e8e-4fd8-c5a0-8472e19592e4"
      },
      "execution_count": 59,
      "outputs": [
        {
          "output_type": "stream",
          "name": "stdout",
          "text": [
            "<PIL.PpmImagePlugin.PpmImageFile image mode=RGB size=1700x2200 at 0x7FDE778FA730>\n"
          ]
        }
      ]
    },
    {
      "cell_type": "code",
      "source": [
        "len(pages)"
      ],
      "metadata": {
        "colab": {
          "base_uri": "https://localhost:8080/"
        },
        "id": "bN4mt3CsJRA9",
        "outputId": "d576765f-9482-40a9-bbab-b98f4eb297b4"
      },
      "execution_count": 60,
      "outputs": [
        {
          "output_type": "execute_result",
          "data": {
            "text/plain": [
              "88"
            ]
          },
          "metadata": {},
          "execution_count": 60
        }
      ]
    },
    {
      "cell_type": "code",
      "source": [
        "pages[6].save('page.jpg', 'JPEG')\n",
        "result = reader.readtext('page.jpg')\n",
        "print(result)"
      ],
      "metadata": {
        "colab": {
          "base_uri": "https://localhost:8080/"
        },
        "id": "NkcHSxyZ5sAu",
        "outputId": "821b0c9d-bfaa-4f44-f8cc-4e7072441cca"
      },
      "execution_count": 61,
      "outputs": [
        {
          "output_type": "stream",
          "name": "stdout",
          "text": [
            "[([[194, 100], [886, 100], [886, 148], [194, 148]], ')9எ <ண3}%0ொ 06 7ஜஸ பழ=9} 0யொ]4(30ொ', 0.00012742968945858346), ([[718, 332], [1222, 332], [1222, 386], [718, 386]], 'மூ விகை மர் ம்மம்', 0.5180540364734664), ([[688, 453], [1233, 453], [1233, 517], [688, 517]], 'நீரில்ரத்தம் வருவதற்கு.', 0.8679039360518069), ([[445, 510], [782, 510], [782, 579], [445, 579]], 'அத்திப்பட்டையை', 0.8558047452615126), ([[799, 521], [1087, 521], [1087, 563], [799, 563]], 'கிஷாயம் வைத்து', 0.5138492566984482), ([[1110, 514], [1294, 514], [1294, 564], [1110, 564]], 'இருவே~', 0.5238208944414456), ([[1366, 512], [1582, 512], [1582, 552], [1366, 552]], 'சாப்பட்டால்', 0.9444967887493154), ([[331, 553], [1262, 553], [1262, 625], [331, 625]], 'மமூத்திரத்தோடு இரத்தம் வருகிறவியாதி ஙவர்த்தியாகும்.', 0.4888657494470399), ([[800, 600], [1093, 600], [1093, 653], [800, 653]], 'வெள்ஊக்கு.', 0.7128647618328143), ([[447, 662], [660, 662], [660, 724], [447, 724]], 'அத்திப்பட்', 0.9941878145996663), ([[650, 660], [1318, 660], [1318, 710], [650, 710]], 'டை மாம்பட்டை நாகப்பட்டை =மயிடை', 0.2860727468187758), ([[1316, 652], [1475, 652], [1475, 708], [1316, 708]], 'யெடுத்து', 0.9427988410951647), ([[337, 703], [1017, 703], [1017, 766], [337, 766]], 'புத் தயிரில் ஒருநாள் ஊரியபிரகு இடித்து', 0.6293485640565729), ([[1029, 703], [1585, 703], [1585, 747], [1029, 747]], 'சாறுபிழிந்து அதி காலலயில் சாப்பி', 0.6399565074288569), ([[343, 740], [1587, 740], [1587, 807], [343, 807]], 'டவும், இப்படி இருவேயும் சாப்பிட்டால் ஒட்டமாய் ஓகுிற வெள்ஔதீரும்', 0.4143650313609467), ([[786, 778], [1132, 778], [1132, 855], [786, 855]], 'பைத்துபோட.', 0.7219928593432092), ([[447, 856], [657, 856], [657, 910], [447, 910]], 'அத்திப்பட்', 0.802319771146438), ([[648, 866], [782, 866], [782, 892], [648, 892]], 'டயை', 0.6818043887450574), ([[791, 844], [1500, 844], [1500, 900], [791, 900]], 'சூரணம்செய்து நல்லெண்ணணவிட்டறைத்து', 0.46556805024870185), ([[1513, 849], [1585, 849], [1585, 887], [1513, 887]], 'பிள', 0.812373161315918), ([[342, 907], [658, 907], [658, 951], [342, 951]], 'வை முதலிய வைக', 0.7653387840976638), ([[646, 895], [920, 895], [920, 947], [646, 947]], 'ளுக்குப் பைத்து', 0.9654980477187816), ([[928, 887], [1316, 887], [1316, 939], [928, 939]], 'போட்டால் குணப்பமு்', 0.6470644947108974), ([[770, 927], [1150, 927], [1150, 1002], [770, 1002]], 'மூத்திரஎரிவுக்கு.', 0.8322703176683302), ([[447, 984], [1588, 984], [1588, 1056], [447, 1056]], 'அத்திவிாையை பாலில் காச்சி சாப்பிட்வெந்தால் மூத்திர யெரிவு நீர்க', 0.5304651370468992), ([[336, 1046], [428, 1046], [428, 1097], [336, 1097]], 'ப்பு', 0.9902339913175698), ([[430, 1060], [504, 1060], [504, 1090], [430, 1090]], 'எலு', 0.7191050755451773), ([[492, 1035], [859, 1035], [859, 1100], [492, 1100]], 'ம்புருக்கி சதையுருக்கி', 0.7644655549593855), ([[869, 1038], [1137, 1038], [1137, 1079], [869, 1079]], 'இவ்வித ரோகம்', 0.9372413383782704), ([[1154, 1034], [1264, 1034], [1264, 1084], [1154, 1084]], 'தீரும்.', 0.7530018997579364), ([[1283, 1039], [1367, 1039], [1367, 1077], [1283, 1077]], 'சத்த', 0.4989560281286467), ([[1393, 1037], [1585, 1037], [1585, 1079], [1393, 1079]], 'காசம் பிக்க', 0.7325209055568754), ([[336, 1089], [726, 1089], [726, 1142], [336, 1142]], 'காசமும் நிவர்த்தியாகும்', 0.8930346493593636), ([[782, 1104], [1137, 1104], [1137, 1180], [782, 1180]], 'கெற்பந்தரிக்க.', 0.6250196385554982), ([[450, 1165], [1587, 1165], [1587, 1230], [450, 1230]], 'அரசம் விரையை பாலில் காச்சி யுண்டுவந்தால் நீர்கடுப்பு மேகசிஓமி', 0.5998510970321103), ([[348, 1227], [530, 1227], [530, 1277], [348, 1277]], 'ஷம் தீரும்', 0.9001619834400152), ([[539, 1209], [1588, 1209], [1588, 1271], [539, 1271]], 'இதை மண்டக்கணக்காக பெண்கள் சாப்பிட்டுவந்தால் கர்ப்பந்த', 0.5808343037648487), ([[473, 1255], [723, 1255], [723, 1309], [473, 1309]], 'கெர்ப்பந்தரிக்க', 0.66760605227891), ([[834, 1262], [990, 1262], [990, 1290], [834, 1290]], 'பாகமான', 0.620908173762295), ([[999, 1253], [1239, 1253], [1239, 1297], [999, 1297]], 'எண்ணமுறை', 0.40884906060327003), ([[1257, 1255], [1403, 1255], [1403, 1297], [1257, 1297]], '(ார்வதீ', 0.5920277681127447), ([[1427, 1257], [1585, 1257], [1585, 1297], [1427, 1297]], 'பாணீயக்', 0.5685499156285243), ([[355, 1271], [469, 1271], [469, 1313], [355, 1313]], 'சக்கும்', 0.7133447949966176), ([[356, 1295], [755, 1295], [755, 1346], [356, 1346]], 'எல்) சொல்லியிருக்கிறது ', 0.34157538154148936), ([[793, 1315], [1131, 1315], [1131, 1380], [793, 1380]], 'மேக சூட்டுக்கு.', 0.5663652573052316), ([[465, 1391], [588, 1391], [588, 1434], [465, 1434]], 'அரசம்', 0.9920164269319448), ([[617, 1379], [1183, 1379], [1183, 1440], [617, 1440]], 'காழுக்தை பாலில் அறைத்து கால', 0.5598010354070727), ([[1186, 1382], [1586, 1382], [1586, 1430], [1186, 1430]], 'மால சாப்பிட்டு வந்கால்', 0.6920718214745138), ([[339, 1422], [1208, 1422], [1208, 1484], [339, 1484]], 'மேகச்சூடு முதலியவை தணியும் தைரியமுண்டாகும்.', 0.4601447759986193), ([[798, 1461], [1141, 1461], [1141, 1524], [798, 1524]], 'பெரும்பாடுக்கு', 0.5793567274573722), ([[449, 1535], [513, 1535], [513, 1571], [449, 1571]], 'அ', 0.9999884367323411), ([[505, 1517], [1587, 1517], [1587, 1582], [505, 1582]], 'ரசமாத்தின் சமூலமாவது பட்டையாவது கொண்டுவந்து உலர்த்தி', 0.4036448916137921), ([[444, 1570], [712, 1570], [712, 1623], [444, 1623]], 'இரண்டு பங்கும்', 0.7115069257808386), ([[791, 1569], [923, 1569], [923, 1605], [791, 1605]], 'பட்டை', 0.9005576549390985), ([[935, 1567], [1019, 1567], [1019, 1603], [935, 1603]], 'தூள்', 0.5904068122950155), ([[1021, 1559], [1477, 1559], [1477, 1614], [1021, 1614]], 'ஒருபங்கும் எடுத்து இடித்து', 0.6239598454387786), ([[1486, 1576], [1584, 1576], [1584, 1602], [1486, 1602]], 'மாலா', 0.6957865953445435), ([[343, 1617], [643, 1617], [643, 1659], [343, 1659]], 'க்கி களிகிளரி தன்', 0.7204373123758251), ([[633, 1601], [1587, 1601], [1587, 1661], [633, 1661]], 'றுவந்தால்பெண்களுக்குண்டாகும் பெரும்பாடு வியாதிதீரும் .', 0.6955953703097111), ([[727, 1640], [1194, 1640], [1194, 1709], [727, 1709]], 'ரசமருந்தை முரிக்க.', 0.5235230246747768), ([[443, 1699], [1357, 1699], [1357, 1759], [443, 1759]], 'அகத்திக் கீாையும் மிதிபாவைப் பிஞ்சும் சமனயெது்து', 0.5280966571243462), ([[1369, 1707], [1585, 1707], [1585, 1751], [1369, 1751]], 'இடித்து எட்', 0.5811647522352408), ([[334, 1741], [1498, 1741], [1498, 1802], [334, 1802]], 'டக்கொருபங்காய் கிஷாயம் வைத்து கொடு்து வந்தால் ( ஈசமருந்தினல் )', 0.3146991483609739), ([[1504, 1754], [1588, 1754], [1588, 1786], [1504, 1786]], 'உண்', 0.868875780137595), ([[337, 1808], [431, 1808], [431, 1834], [337, 1834]], '!ான', 0.20375662047310428), ([[438, 1789], [1058, 1789], [1058, 1842], [438, 1842]], 'செதிகளும் முக்கு வியாதியம் தீரும்', 0.6881253744893757), ([[769, 1831], [1153, 1831], [1153, 1894], [769, 1894]], 'வாய்புண்ணுக்கு.', 0.5502370024162317), ([[443, 1891], [1168, 1891], [1168, 1944], [443, 1944]], 'அகத்திக் கொழுந்தை சூரியஉதயமாகுமுன்', 0.8687500126310523), ([[1283, 1889], [1585, 1889], [1585, 1934], [1283, 1934]], 'யெடுத்து மென்று', 0.6180982068084291), ([[340, 1926], [1426, 1926], [1426, 1980], [340, 1980]], 'தின்று வந்தால் வாய்ரிணம் வாய்புண்ணு யாவும் தீரும் சூடுனியும்', 0.6717827152776317), ([[773, 1969], [1157, 1969], [1157, 2029], [773, 2029]], 'சூட்டுக்குதைலம்', 0.8785727757354498), ([[446, 2023], [1593, 2023], [1593, 2086], [446, 2086]], 'அகத்திக் கீலாசாரும் நல்லெண்ணணயும் சமுய்க்கூட்டி அபு்பிலேற்றி', 0.45213988163199803), ([[334, 2069], [1595, 2069], [1595, 2130], [334, 2130]], 'வெந்தியத்தை பாலில் அறைத்துப்போட்டு தயிலபதமாய் சாச்சியிரக்கி தலமு', 0.5466995520549691), ([[340, 2109], [728, 2109], [728, 2172], [340, 2172]], 'முகிவந்தால் சகலசூடும்', 0.5726892708382353), ([[742, 2113], [1352, 2113], [1352, 2168], [742, 2168]], 'தணியும் தேகம் குளிர்ச்சியுண்டாகும்.', 0.5383788591464362), ([[1280.3183180150093, 518.2912904420258], [1349.0165588580805, 512.0222063638367], [1350.6816819849907, 555.7087095579742], [1282.9834411419195, 560.9777936361633]], 'யும்', 0.8521879422039501), ([[1478.2802656784306, 667.3885579247043], [1583.6001575726718, 656.2567658069169], [1585.7197343215694, 695.6114420752957], [1481.3998424273282, 705.7432341930831]], 'புளிப்', 0.9294489722482372), ([[727.1370142686695, 1267.460327110472], [840.6838690042742, 1257.4414400366531], [842.8629857313305, 1293.539672889528], [729.3161309957258, 1304.5585599633469]], 'அனுே', 0.5657387550721524), ([[712.9820268028815, 1568.1317018509494], [785.7893622830726, 1577.7190888057219], [780.0179731971185, 1613.8682981490506], [707.2106377169274, 1604.2809111942781]], '', 0.0), ([[333.00636944292773, 1578.414649718734], [434.3382129082616, 1566.5140577716704], [436.99363055707227, 1610.585350281266], [336.6617870917384, 1622.4859422283296]], 'அரிசு', 0.6075010025385204), ([[1157.2051046034558, 1895.3332719689847], [1284.5544948617016, 1884.9368527549557], [1285.7948953965442, 1930.6667280310153], [1158.4455051382984, 1942.0631472450443]], 'ஒருபிடி', 0.9971119989576065)]\n"
          ]
        }
      ]
    },
    {
      "cell_type": "code",
      "source": [
        "for i in range(len(result)):\n",
        "  print(result[i][1])"
      ],
      "metadata": {
        "colab": {
          "base_uri": "https://localhost:8080/"
        },
        "id": "FxkKvOKG5sDL",
        "outputId": "6dd2fff5-994c-4fb5-ec6f-b1f4b0c70bc0"
      },
      "execution_count": 62,
      "outputs": [
        {
          "output_type": "stream",
          "name": "stdout",
          "text": [
            ")9எ <ண3}%0ொ 06 7ஜஸ பழ=9} 0யொ]4(30ொ\n",
            "மூ விகை மர் ம்மம்\n",
            "நீரில்ரத்தம் வருவதற்கு.\n",
            "அத்திப்பட்டையை\n",
            "கிஷாயம் வைத்து\n",
            "இருவே~\n",
            "சாப்பட்டால்\n",
            "மமூத்திரத்தோடு இரத்தம் வருகிறவியாதி ஙவர்த்தியாகும்.\n",
            "வெள்ஊக்கு.\n",
            "அத்திப்பட்\n",
            "டை மாம்பட்டை நாகப்பட்டை =மயிடை\n",
            "யெடுத்து\n",
            "புத் தயிரில் ஒருநாள் ஊரியபிரகு இடித்து\n",
            "சாறுபிழிந்து அதி காலலயில் சாப்பி\n",
            "டவும், இப்படி இருவேயும் சாப்பிட்டால் ஒட்டமாய் ஓகுிற வெள்ஔதீரும்\n",
            "பைத்துபோட.\n",
            "அத்திப்பட்\n",
            "டயை\n",
            "சூரணம்செய்து நல்லெண்ணணவிட்டறைத்து\n",
            "பிள\n",
            "வை முதலிய வைக\n",
            "ளுக்குப் பைத்து\n",
            "போட்டால் குணப்பமு்\n",
            "மூத்திரஎரிவுக்கு.\n",
            "அத்திவிாையை பாலில் காச்சி சாப்பிட்வெந்தால் மூத்திர யெரிவு நீர்க\n",
            "ப்பு\n",
            "எலு\n",
            "ம்புருக்கி சதையுருக்கி\n",
            "இவ்வித ரோகம்\n",
            "தீரும்.\n",
            "சத்த\n",
            "காசம் பிக்க\n",
            "காசமும் நிவர்த்தியாகும்\n",
            "கெற்பந்தரிக்க.\n",
            "அரசம் விரையை பாலில் காச்சி யுண்டுவந்தால் நீர்கடுப்பு மேகசிஓமி\n",
            "ஷம் தீரும்\n",
            "இதை மண்டக்கணக்காக பெண்கள் சாப்பிட்டுவந்தால் கர்ப்பந்த\n",
            "கெர்ப்பந்தரிக்க\n",
            "பாகமான\n",
            "எண்ணமுறை\n",
            "(ார்வதீ\n",
            "பாணீயக்\n",
            "சக்கும்\n",
            "எல்) சொல்லியிருக்கிறது \n",
            "மேக சூட்டுக்கு.\n",
            "அரசம்\n",
            "காழுக்தை பாலில் அறைத்து கால\n",
            "மால சாப்பிட்டு வந்கால்\n",
            "மேகச்சூடு முதலியவை தணியும் தைரியமுண்டாகும்.\n",
            "பெரும்பாடுக்கு\n",
            "அ\n",
            "ரசமாத்தின் சமூலமாவது பட்டையாவது கொண்டுவந்து உலர்த்தி\n",
            "இரண்டு பங்கும்\n",
            "பட்டை\n",
            "தூள்\n",
            "ஒருபங்கும் எடுத்து இடித்து\n",
            "மாலா\n",
            "க்கி களிகிளரி தன்\n",
            "றுவந்தால்பெண்களுக்குண்டாகும் பெரும்பாடு வியாதிதீரும் .\n",
            "ரசமருந்தை முரிக்க.\n",
            "அகத்திக் கீாையும் மிதிபாவைப் பிஞ்சும் சமனயெது்து\n",
            "இடித்து எட்\n",
            "டக்கொருபங்காய் கிஷாயம் வைத்து கொடு்து வந்தால் ( ஈசமருந்தினல் )\n",
            "உண்\n",
            "!ான\n",
            "செதிகளும் முக்கு வியாதியம் தீரும்\n",
            "வாய்புண்ணுக்கு.\n",
            "அகத்திக் கொழுந்தை சூரியஉதயமாகுமுன்\n",
            "யெடுத்து மென்று\n",
            "தின்று வந்தால் வாய்ரிணம் வாய்புண்ணு யாவும் தீரும் சூடுனியும்\n",
            "சூட்டுக்குதைலம்\n",
            "அகத்திக் கீலாசாரும் நல்லெண்ணணயும் சமுய்க்கூட்டி அபு்பிலேற்றி\n",
            "வெந்தியத்தை பாலில் அறைத்துப்போட்டு தயிலபதமாய் சாச்சியிரக்கி தலமு\n",
            "முகிவந்தால் சகலசூடும்\n",
            "தணியும் தேகம் குளிர்ச்சியுண்டாகும்.\n",
            "யும்\n",
            "புளிப்\n",
            "அனுே\n",
            "\n",
            "அரிசு\n",
            "ஒருபிடி\n"
          ]
        }
      ]
    },
    {
      "cell_type": "code",
      "source": [],
      "metadata": {
        "id": "pK646l_v5sGl"
      },
      "execution_count": null,
      "outputs": []
    }
  ]
}